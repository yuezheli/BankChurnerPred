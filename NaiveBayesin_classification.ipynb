{
 "cells": [
  {
   "cell_type": "code",
   "execution_count": 1,
   "metadata": {},
   "outputs": [],
   "source": [
    "import pandas as pd\n",
    "import numpy as np\n",
    "import matplotlib.pyplot as plt\n",
    "%matplotlib inline\n",
    "\n",
    "import seaborn as sns\n",
    "\n",
    "rawdata = pd.read_csv('https://raw.githubusercontent.com/yuezheli/BankChurnerPred/main/BankChurners.csv', header = 0)\n",
    "\n",
    "\n",
    "# label existing customers as 0\n",
    "rawdata.replace('Existing Customer', 0, regex=True, inplace = True)\n",
    "# label attrited customers as 1\n",
    "rawdata.replace('Attrited Customer', 1, regex=True, inplace = True)\n",
    "\n",
    "\n",
    "# drop unnecessary categorical variables\n",
    "\n",
    "rawdata.drop(['CLIENTNUM', 'Education_Level', 'Marital_Status', 'Income_Category',\n",
    "              'Card_Category'], axis = 1, inplace = True)\n",
    "\n",
    "# binary encode of gender\n",
    "rawdata.replace('M', 0, regex=True, inplace = True) # male = 0\n",
    "rawdata.replace('F', 1, regex=True, inplace = True) # female = 0\n",
    "\n",
    "# drop more unrelated variable\n",
    "rawdata.drop(['Customer_Age', 'Gender', 'Dependent_count','Months_on_book', \n",
    "                               'Credit_Limit', 'Avg_Open_To_Buy', 'Total_Amt_Chng_Q4_Q1', 'Total_Ct_Chng_Q4_Q1'], axis = 1, inplace = True)\n",
    "\n",
    "\n",
    "\n",
    "# prepare training and testing datasets\n",
    "\n",
    "attrition_label = rawdata['Attrition_Flag']\n",
    "attrition_data = rawdata.drop(['Attrition_Flag'], axis = 1)\n",
    "\n",
    "from sklearn.model_selection import train_test_split\n",
    "\n",
    "X_train, X_test, y_train, y_test = train_test_split(attrition_data, attrition_label, test_size=0.2,random_state=109) "
   ]
  },
  {
   "cell_type": "code",
   "execution_count": 4,
   "metadata": {},
   "outputs": [
    {
     "name": "stdout",
     "output_type": "stream",
     "text": [
      "Accuracy: 0.8840078973346496\n",
      "Precision: 0.6549295774647887\n",
      "Recall: 0.5758513931888545\n"
     ]
    }
   ],
   "source": [
    "from sklearn.naive_bayes import GaussianNB\n",
    "\n",
    "gnb = GaussianNB()\n",
    "\n",
    "y_pred = gnb.fit(X_train, y_train).predict(X_test)\n",
    "\n",
    "from sklearn import metrics\n",
    "\n",
    "print(\"Accuracy:\",metrics.accuracy_score(y_test, y_pred))\n",
    "print(\"Precision:\",metrics.precision_score(y_test, y_pred)) # much less false positive\n",
    "print(\"Recall:\",metrics.recall_score(y_test, y_pred)) # too many false negative"
   ]
  },
  {
   "cell_type": "markdown",
   "metadata": {},
   "source": [
    "## use data with normalization"
   ]
  },
  {
   "cell_type": "code",
   "execution_count": 5,
   "metadata": {},
   "outputs": [
    {
     "name": "stdout",
     "output_type": "stream",
     "text": [
      "Accuracy: 0.8854886475814413\n",
      "Precision: 0.6585365853658537\n",
      "Recall: 0.5851393188854489\n"
     ]
    }
   ],
   "source": [
    "from sklearn.preprocessing import StandardScaler\n",
    "scaler = StandardScaler()\n",
    "scaler.fit(X_train)\n",
    "\n",
    "X_train = scaler.transform(X_train)\n",
    "X_test = scaler.transform(X_test)\n",
    "\n",
    "gnb = GaussianNB()\n",
    "\n",
    "y_pred = gnb.fit(X_train, y_train).predict(X_test)\n",
    "\n",
    "\n",
    "print(\"Accuracy:\",metrics.accuracy_score(y_test, y_pred))\n",
    "print(\"Precision:\",metrics.precision_score(y_test, y_pred)) # much less false positive\n",
    "print(\"Recall:\",metrics.recall_score(y_test, y_pred)) # too many false negative"
   ]
  },
  {
   "cell_type": "code",
   "execution_count": null,
   "metadata": {},
   "outputs": [],
   "source": []
  }
 ],
 "metadata": {
  "kernelspec": {
   "display_name": "Python 3",
   "language": "python",
   "name": "python3"
  },
  "language_info": {
   "codemirror_mode": {
    "name": "ipython",
    "version": 3
   },
   "file_extension": ".py",
   "mimetype": "text/x-python",
   "name": "python",
   "nbconvert_exporter": "python",
   "pygments_lexer": "ipython3",
   "version": "3.7.4"
  }
 },
 "nbformat": 4,
 "nbformat_minor": 4
}
