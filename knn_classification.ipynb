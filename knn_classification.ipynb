{
 "cells": [
  {
   "cell_type": "code",
   "execution_count": 3,
   "metadata": {
    "scrolled": true
   },
   "outputs": [
    {
     "data": {
      "text/html": [
       "<div>\n",
       "<style scoped>\n",
       "    .dataframe tbody tr th:only-of-type {\n",
       "        vertical-align: middle;\n",
       "    }\n",
       "\n",
       "    .dataframe tbody tr th {\n",
       "        vertical-align: top;\n",
       "    }\n",
       "\n",
       "    .dataframe thead th {\n",
       "        text-align: right;\n",
       "    }\n",
       "</style>\n",
       "<table border=\"1\" class=\"dataframe\">\n",
       "  <thead>\n",
       "    <tr style=\"text-align: right;\">\n",
       "      <th></th>\n",
       "      <th>Attrition_Flag</th>\n",
       "      <th>Total_Relationship_Count</th>\n",
       "      <th>Months_Inactive_12_mon</th>\n",
       "      <th>Contacts_Count_12_mon</th>\n",
       "      <th>Total_Revolving_Bal</th>\n",
       "      <th>Total_Trans_Amt</th>\n",
       "      <th>Total_Trans_Ct</th>\n",
       "      <th>Avg_Utilization_Ratio</th>\n",
       "    </tr>\n",
       "  </thead>\n",
       "  <tbody>\n",
       "    <tr>\n",
       "      <th>0</th>\n",
       "      <td>0</td>\n",
       "      <td>5</td>\n",
       "      <td>1</td>\n",
       "      <td>3</td>\n",
       "      <td>777</td>\n",
       "      <td>1144</td>\n",
       "      <td>42</td>\n",
       "      <td>0.061</td>\n",
       "    </tr>\n",
       "    <tr>\n",
       "      <th>1</th>\n",
       "      <td>0</td>\n",
       "      <td>6</td>\n",
       "      <td>1</td>\n",
       "      <td>2</td>\n",
       "      <td>864</td>\n",
       "      <td>1291</td>\n",
       "      <td>33</td>\n",
       "      <td>0.105</td>\n",
       "    </tr>\n",
       "    <tr>\n",
       "      <th>2</th>\n",
       "      <td>0</td>\n",
       "      <td>4</td>\n",
       "      <td>1</td>\n",
       "      <td>0</td>\n",
       "      <td>0</td>\n",
       "      <td>1887</td>\n",
       "      <td>20</td>\n",
       "      <td>0.000</td>\n",
       "    </tr>\n",
       "    <tr>\n",
       "      <th>3</th>\n",
       "      <td>0</td>\n",
       "      <td>3</td>\n",
       "      <td>4</td>\n",
       "      <td>1</td>\n",
       "      <td>2517</td>\n",
       "      <td>1171</td>\n",
       "      <td>20</td>\n",
       "      <td>0.760</td>\n",
       "    </tr>\n",
       "    <tr>\n",
       "      <th>4</th>\n",
       "      <td>0</td>\n",
       "      <td>5</td>\n",
       "      <td>1</td>\n",
       "      <td>0</td>\n",
       "      <td>0</td>\n",
       "      <td>816</td>\n",
       "      <td>28</td>\n",
       "      <td>0.000</td>\n",
       "    </tr>\n",
       "  </tbody>\n",
       "</table>\n",
       "</div>"
      ],
      "text/plain": [
       "   Attrition_Flag  Total_Relationship_Count  Months_Inactive_12_mon  \\\n",
       "0               0                         5                       1   \n",
       "1               0                         6                       1   \n",
       "2               0                         4                       1   \n",
       "3               0                         3                       4   \n",
       "4               0                         5                       1   \n",
       "\n",
       "   Contacts_Count_12_mon  Total_Revolving_Bal  Total_Trans_Amt  \\\n",
       "0                      3                  777             1144   \n",
       "1                      2                  864             1291   \n",
       "2                      0                    0             1887   \n",
       "3                      1                 2517             1171   \n",
       "4                      0                    0              816   \n",
       "\n",
       "   Total_Trans_Ct  Avg_Utilization_Ratio  \n",
       "0              42                  0.061  \n",
       "1              33                  0.105  \n",
       "2              20                  0.000  \n",
       "3              20                  0.760  \n",
       "4              28                  0.000  "
      ]
     },
     "execution_count": 3,
     "metadata": {},
     "output_type": "execute_result"
    }
   ],
   "source": [
    "import pandas as pd\n",
    "import numpy as np\n",
    "import matplotlib.pyplot as plt\n",
    "%matplotlib inline\n",
    "\n",
    "import seaborn as sns\n",
    "\n",
    "rawdata = pd.read_csv('https://raw.githubusercontent.com/yuezheli/BankChurnerPred/main/BankChurners.csv', header = 0)\n",
    "\n",
    "\n",
    "# label existing customers as 0\n",
    "rawdata.replace('Existing Customer', 0, regex=True, inplace = True)\n",
    "# label attrited customers as 1\n",
    "rawdata.replace('Attrited Customer', 1, regex=True, inplace = True)\n",
    "\n",
    "\n",
    "# drop unnecessary categorical variables\n",
    "\n",
    "rawdata.drop(['CLIENTNUM', 'Education_Level', 'Marital_Status', 'Income_Category',\n",
    "              'Card_Category'], axis = 1, inplace = True)\n",
    "\n",
    "# binary encode of gender\n",
    "rawdata.replace('M', 0, regex=True, inplace = True) # male = 0\n",
    "rawdata.replace('F', 1, regex=True, inplace = True) # female = 0\n",
    "\n",
    "# drop more unrelated variable\n",
    "rawdata.drop(['Customer_Age', 'Gender', 'Dependent_count','Months_on_book', \n",
    "                               'Credit_Limit', 'Avg_Open_To_Buy', 'Total_Amt_Chng_Q4_Q1', 'Total_Ct_Chng_Q4_Q1'], axis = 1, inplace = True)\n",
    "\n",
    "\n",
    "rawdata.head()\n",
    "\n"
   ]
  },
  {
   "cell_type": "code",
   "execution_count": 4,
   "metadata": {},
   "outputs": [],
   "source": [
    "# prepare training and testing datasets\n",
    "\n",
    "attrition_label = rawdata['Attrition_Flag']\n",
    "attrition_data = rawdata.drop(['Attrition_Flag'], axis = 1)\n",
    "\n",
    "from sklearn.model_selection import train_test_split\n",
    "\n",
    "X_train, X_test, y_train, y_test = train_test_split(attrition_data, attrition_label, test_size=0.2,random_state=109) "
   ]
  },
  {
   "cell_type": "code",
   "execution_count": 5,
   "metadata": {},
   "outputs": [],
   "source": [
    "from sklearn.preprocessing import StandardScaler\n",
    "scaler = StandardScaler()\n",
    "scaler.fit(X_train)\n",
    "\n",
    "X_train = scaler.transform(X_train)\n",
    "X_test = scaler.transform(X_test)"
   ]
  },
  {
   "cell_type": "code",
   "execution_count": 10,
   "metadata": {},
   "outputs": [
    {
     "name": "stdout",
     "output_type": "stream",
     "text": [
      "[[1658   45]\n",
      " [ 114  209]]\n",
      "              precision    recall  f1-score   support\n",
      "\n",
      "           0       0.94      0.97      0.95      1703\n",
      "           1       0.82      0.65      0.72       323\n",
      "\n",
      "    accuracy                           0.92      2026\n",
      "   macro avg       0.88      0.81      0.84      2026\n",
      "weighted avg       0.92      0.92      0.92      2026\n",
      "\n"
     ]
    }
   ],
   "source": [
    "from sklearn.neighbors import KNeighborsClassifier\n",
    "classifier = KNeighborsClassifier(n_neighbors=5)\n",
    "classifier.fit(X_train, y_train)\n",
    "\n",
    "y_pred = classifier.predict(X_test)\n",
    "from sklearn.metrics import classification_report, confusion_matrix, accuracy_score, precision_score, recall_score\n",
    "print(confusion_matrix(y_test, y_pred))\n",
    "print(classification_report(y_test, y_pred))"
   ]
  },
  {
   "cell_type": "code",
   "execution_count": 11,
   "metadata": {
    "scrolled": true
   },
   "outputs": [
    {
     "name": "stdout",
     "output_type": "stream",
     "text": [
      "Accuracy: 0.9215202369200395\n",
      "Precision: 0.8228346456692913\n",
      "Recall: 0.6470588235294118\n"
     ]
    }
   ],
   "source": [
    "print(\"Accuracy:\",accuracy_score(y_test, y_pred))\n",
    "print(\"Precision:\",precision_score(y_test, y_pred)) # little falso positive\n",
    "print(\"Recall:\",recall_score(y_test, y_pred)) # too many false negative"
   ]
  },
  {
   "cell_type": "markdown",
   "metadata": {},
   "source": [
    "## search for optimal neighbor number using training dataset"
   ]
  },
  {
   "cell_type": "code",
   "execution_count": 14,
   "metadata": {
    "scrolled": true
   },
   "outputs": [],
   "source": [
    "from sklearn import metrics\n",
    "\n",
    "\n",
    "def ScanNeighborNum(neighbornum = 5, X_train = X_train, y_train = y_train):\n",
    "    classifier = KNeighborsClassifier(n_neighbors=neighbornum)\n",
    "    classifier.fit(X_train, y_train)\n",
    "    \n",
    "    train_pred = classifier.predict(X_train)\n",
    "    \n",
    "    accurary = metrics.accuracy_score(y_train, train_pred)\n",
    "    precision = metrics.precision_score(y_train, train_pred)\n",
    "    recall = metrics.recall_score(y_train, train_pred)\n",
    "    \n",
    "    return accurary, precision, recall\n",
    "\n",
    "    "
   ]
  },
  {
   "cell_type": "code",
   "execution_count": 15,
   "metadata": {},
   "outputs": [],
   "source": [
    "Accuracy=[]\n",
    "Precision= []\n",
    "Recall = []\n",
    "\n",
    "for neignum in range(10):\n",
    "    taccu, tprec, trecall = ScanNeighborNum(neignum + 1)\n",
    "    Accuracy.append(taccu)\n",
    "    Precision.append(tprec)\n",
    "    Recall.append(trecall)\n",
    "    \n",
    "    del taccu, tprec, trecall \n",
    "    \n"
   ]
  },
  {
   "cell_type": "code",
   "execution_count": 22,
   "metadata": {
    "scrolled": true
   },
   "outputs": [
    {
     "data": {
      "text/html": [
       "<div>\n",
       "<style scoped>\n",
       "    .dataframe tbody tr th:only-of-type {\n",
       "        vertical-align: middle;\n",
       "    }\n",
       "\n",
       "    .dataframe tbody tr th {\n",
       "        vertical-align: top;\n",
       "    }\n",
       "\n",
       "    .dataframe thead th {\n",
       "        text-align: right;\n",
       "    }\n",
       "</style>\n",
       "<table border=\"1\" class=\"dataframe\">\n",
       "  <thead>\n",
       "    <tr style=\"text-align: right;\">\n",
       "      <th></th>\n",
       "      <th>neighbor #</th>\n",
       "      <th>Accuracy</th>\n",
       "      <th>Precision</th>\n",
       "      <th>Recall</th>\n",
       "    </tr>\n",
       "  </thead>\n",
       "  <tbody>\n",
       "    <tr>\n",
       "      <th>0</th>\n",
       "      <td>0</td>\n",
       "      <td>1.000000</td>\n",
       "      <td>1.000000</td>\n",
       "      <td>1.000000</td>\n",
       "    </tr>\n",
       "    <tr>\n",
       "      <th>1</th>\n",
       "      <td>1</td>\n",
       "      <td>0.951858</td>\n",
       "      <td>1.000000</td>\n",
       "      <td>0.700920</td>\n",
       "    </tr>\n",
       "    <tr>\n",
       "      <th>2</th>\n",
       "      <td>2</td>\n",
       "      <td>0.951981</td>\n",
       "      <td>0.885425</td>\n",
       "      <td>0.805982</td>\n",
       "    </tr>\n",
       "    <tr>\n",
       "      <th>3</th>\n",
       "      <td>3</td>\n",
       "      <td>0.942229</td>\n",
       "      <td>0.934511</td>\n",
       "      <td>0.689417</td>\n",
       "    </tr>\n",
       "    <tr>\n",
       "      <th>4</th>\n",
       "      <td>4</td>\n",
       "      <td>0.945933</td>\n",
       "      <td>0.883186</td>\n",
       "      <td>0.765337</td>\n",
       "    </tr>\n",
       "    <tr>\n",
       "      <th>5</th>\n",
       "      <td>5</td>\n",
       "      <td>0.936057</td>\n",
       "      <td>0.903491</td>\n",
       "      <td>0.674847</td>\n",
       "    </tr>\n",
       "    <tr>\n",
       "      <th>6</th>\n",
       "      <td>6</td>\n",
       "      <td>0.937785</td>\n",
       "      <td>0.863636</td>\n",
       "      <td>0.728528</td>\n",
       "    </tr>\n",
       "    <tr>\n",
       "      <th>7</th>\n",
       "      <td>7</td>\n",
       "      <td>0.933465</td>\n",
       "      <td>0.889908</td>\n",
       "      <td>0.669479</td>\n",
       "    </tr>\n",
       "    <tr>\n",
       "      <th>8</th>\n",
       "      <td>8</td>\n",
       "      <td>0.935934</td>\n",
       "      <td>0.860422</td>\n",
       "      <td>0.718558</td>\n",
       "    </tr>\n",
       "    <tr>\n",
       "      <th>9</th>\n",
       "      <td>9</td>\n",
       "      <td>0.931984</td>\n",
       "      <td>0.882234</td>\n",
       "      <td>0.666411</td>\n",
       "    </tr>\n",
       "  </tbody>\n",
       "</table>\n",
       "</div>"
      ],
      "text/plain": [
       "   neighbor #  Accuracy  Precision    Recall\n",
       "0           0  1.000000   1.000000  1.000000\n",
       "1           1  0.951858   1.000000  0.700920\n",
       "2           2  0.951981   0.885425  0.805982\n",
       "3           3  0.942229   0.934511  0.689417\n",
       "4           4  0.945933   0.883186  0.765337\n",
       "5           5  0.936057   0.903491  0.674847\n",
       "6           6  0.937785   0.863636  0.728528\n",
       "7           7  0.933465   0.889908  0.669479\n",
       "8           8  0.935934   0.860422  0.718558\n",
       "9           9  0.931984   0.882234  0.666411"
      ]
     },
     "execution_count": 22,
     "metadata": {},
     "output_type": "execute_result"
    }
   ],
   "source": [
    "combined = pd.DataFrame()\n",
    "combined['neighbor #'] = np.array(range(10))\n",
    "combined['Accuracy'] = Accuracy\n",
    "combined['Precision'] = Precision\n",
    "combined['Recall'] = Recall\n",
    "\n",
    "combined"
   ]
  },
  {
   "cell_type": "code",
   "execution_count": 24,
   "metadata": {},
   "outputs": [
    {
     "name": "stdout",
     "output_type": "stream",
     "text": [
      "              precision    recall  f1-score   support\n",
      "\n",
      "           0       0.92      0.98      0.95      1703\n",
      "           1       0.85      0.56      0.68       323\n",
      "\n",
      "    accuracy                           0.91      2026\n",
      "   macro avg       0.89      0.77      0.81      2026\n",
      "weighted avg       0.91      0.91      0.91      2026\n",
      "\n"
     ]
    }
   ],
   "source": [
    "classifier = KNeighborsClassifier(n_neighbors=4)\n",
    "classifier.fit(X_train, y_train)\n",
    "\n",
    "y_pred = classifier.predict(X_test)\n",
    "from sklearn.metrics import classification_report, confusion_matrix, accuracy_score, precision_score, recall_score\n",
    "print(classification_report(y_test, y_pred))"
   ]
  }
 ],
 "metadata": {
  "kernelspec": {
   "display_name": "Python 3",
   "language": "python",
   "name": "python3"
  },
  "language_info": {
   "codemirror_mode": {
    "name": "ipython",
    "version": 3
   },
   "file_extension": ".py",
   "mimetype": "text/x-python",
   "name": "python",
   "nbconvert_exporter": "python",
   "pygments_lexer": "ipython3",
   "version": "3.7.4"
  }
 },
 "nbformat": 4,
 "nbformat_minor": 4
}
